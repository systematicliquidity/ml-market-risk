{
 "cells": [
  {
   "cell_type": "code",
   "execution_count": 1,
   "metadata": {
    "collapsed": true
   },
   "outputs": [],
   "source": [
    "import boto3 as boto\n",
    "import urllib\n",
    "import pandas as pd"
   ]
  },
  {
   "cell_type": "markdown",
   "metadata": {},
   "source": [
    "Hardcoded "
   ]
  },
  {
   "cell_type": "code",
   "execution_count": 2,
   "metadata": {
    "collapsed": true
   },
   "outputs": [],
   "source": [
    "CODE_LIST = [\n",
    "    \"0001\", \"0002\", \"0003\", \"0005\", \"0006\", \"0011\", \"0012\", \"0016\", \"0017\", \"0019\", \"0023\",\n",
    "    \"0027\", \"0066\", \"0083\", \"0101\", \"0144\", \"0151\", \"0175\", \"0267\", \"0288\", \"0386\", \"0388\",\n",
    "    \"0688\", \"0700\", \"0762\", \"0823\", \"0836\", \"0857\", \"0883\", \"0939\", \"0941\", \"1038\", \"1044\",\n",
    "    \"1088\", \"1093\", \"1109\", \"1113\", \"1299\", \"1398\", \"1928\", \"1997\", \"2007\", \"2018\", \"2318\", \n",
    "    \"2319\", \"2382\", \"2388\", \"2628\", \"3328\", \"3988\"\n",
    "]\n",
    "FILE_LIST = [\"%sHK_5mbars_2018-04-23T0115_2018-08-21T0805.csv\"%c if c not in [\"0017\", \"0019\", \"1997\"] \n",
    "             else \"%sHK_5mbars_2018-04-23T0130_2018-08-21T0805.csv\"%c\n",
    "             for c in CODE_LIST]"
   ]
  },
  {
   "cell_type": "markdown",
   "metadata": {},
   "source": [
    "Download bucket OHLCVs"
   ]
  },
  {
   "cell_type": "code",
   "execution_count": 4,
   "metadata": {},
   "outputs": [
    {
     "name": "stdout",
     "output_type": "stream",
     "text": [
      "downloaded 0001HK_5mbars_2018-04-23T0115_2018-08-21T0805.csv\n",
      "downloaded 0002HK_5mbars_2018-04-23T0115_2018-08-21T0805.csv\n",
      "downloaded 0003HK_5mbars_2018-04-23T0115_2018-08-21T0805.csv\n",
      "downloaded 0005HK_5mbars_2018-04-23T0115_2018-08-21T0805.csv\n",
      "downloaded 0006HK_5mbars_2018-04-23T0115_2018-08-21T0805.csv\n",
      "downloaded 0011HK_5mbars_2018-04-23T0115_2018-08-21T0805.csv\n",
      "downloaded 0012HK_5mbars_2018-04-23T0115_2018-08-21T0805.csv\n",
      "downloaded 0016HK_5mbars_2018-04-23T0115_2018-08-21T0805.csv\n",
      "downloaded 0017HK_5mbars_2018-04-23T0130_2018-08-21T0805.csv\n",
      "downloaded 0019HK_5mbars_2018-04-23T0130_2018-08-21T0805.csv\n",
      "downloaded 0023HK_5mbars_2018-04-23T0115_2018-08-21T0805.csv\n",
      "downloaded 0027HK_5mbars_2018-04-23T0115_2018-08-21T0805.csv\n",
      "downloaded 0066HK_5mbars_2018-04-23T0115_2018-08-21T0805.csv\n",
      "downloaded 0083HK_5mbars_2018-04-23T0115_2018-08-21T0805.csv\n",
      "downloaded 0101HK_5mbars_2018-04-23T0115_2018-08-21T0805.csv\n",
      "downloaded 0144HK_5mbars_2018-04-23T0115_2018-08-21T0805.csv\n",
      "downloaded 0151HK_5mbars_2018-04-23T0115_2018-08-21T0805.csv\n",
      "downloaded 0175HK_5mbars_2018-04-23T0115_2018-08-21T0805.csv\n",
      "downloaded 0267HK_5mbars_2018-04-23T0115_2018-08-21T0805.csv\n",
      "downloaded 0288HK_5mbars_2018-04-23T0115_2018-08-21T0805.csv\n",
      "downloaded 0386HK_5mbars_2018-04-23T0115_2018-08-21T0805.csv\n",
      "downloaded 0388HK_5mbars_2018-04-23T0115_2018-08-21T0805.csv\n",
      "downloaded 0688HK_5mbars_2018-04-23T0115_2018-08-21T0805.csv\n",
      "downloaded 0700HK_5mbars_2018-04-23T0115_2018-08-21T0805.csv\n",
      "downloaded 0762HK_5mbars_2018-04-23T0115_2018-08-21T0805.csv\n",
      "downloaded 0823HK_5mbars_2018-04-23T0115_2018-08-21T0805.csv\n",
      "downloaded 0836HK_5mbars_2018-04-23T0115_2018-08-21T0805.csv\n",
      "downloaded 0857HK_5mbars_2018-04-23T0115_2018-08-21T0805.csv\n",
      "downloaded 0883HK_5mbars_2018-04-23T0115_2018-08-21T0805.csv\n",
      "downloaded 0939HK_5mbars_2018-04-23T0115_2018-08-21T0805.csv\n",
      "downloaded 0941HK_5mbars_2018-04-23T0115_2018-08-21T0805.csv\n",
      "downloaded 1038HK_5mbars_2018-04-23T0115_2018-08-21T0805.csv\n",
      "downloaded 1044HK_5mbars_2018-04-23T0115_2018-08-21T0805.csv\n",
      "downloaded 1088HK_5mbars_2018-04-23T0115_2018-08-21T0805.csv\n",
      "downloaded 1093HK_5mbars_2018-04-23T0115_2018-08-21T0805.csv\n",
      "downloaded 1109HK_5mbars_2018-04-23T0115_2018-08-21T0805.csv\n",
      "downloaded 1113HK_5mbars_2018-04-23T0115_2018-08-21T0805.csv\n",
      "downloaded 1299HK_5mbars_2018-04-23T0115_2018-08-21T0805.csv\n",
      "downloaded 1398HK_5mbars_2018-04-23T0115_2018-08-21T0805.csv\n",
      "downloaded 1928HK_5mbars_2018-04-23T0115_2018-08-21T0805.csv\n",
      "downloaded 1997HK_5mbars_2018-04-23T0130_2018-08-21T0805.csv\n",
      "downloaded 2007HK_5mbars_2018-04-23T0115_2018-08-21T0805.csv\n",
      "downloaded 2018HK_5mbars_2018-04-23T0115_2018-08-21T0805.csv\n",
      "downloaded 2318HK_5mbars_2018-04-23T0115_2018-08-21T0805.csv\n",
      "downloaded 2319HK_5mbars_2018-04-23T0115_2018-08-21T0805.csv\n",
      "downloaded 2382HK_5mbars_2018-04-23T0115_2018-08-21T0805.csv\n",
      "downloaded 2388HK_5mbars_2018-04-23T0115_2018-08-21T0805.csv\n",
      "downloaded 2628HK_5mbars_2018-04-23T0115_2018-08-21T0805.csv\n",
      "downloaded 3328HK_5mbars_2018-04-23T0115_2018-08-21T0805.csv\n",
      "downloaded 3988HK_5mbars_2018-04-23T0115_2018-08-21T0805.csv\n"
     ]
    }
   ],
   "source": [
    "for f in FILE_LIST:\n",
    "    urllib.request.urlretrieve(\"https://s3-ap-northeast-1.amazonaws.com/systematicliquidity-data/lz/bars/%s\"%f, \n",
    "                           f)\n",
    "    print(\"downloaded %s\"%f)"
   ]
  },
  {
   "cell_type": "markdown",
   "metadata": {},
   "source": [
    "Extract Close & Volume to csv"
   ]
  },
  {
   "cell_type": "code",
   "execution_count": 5,
   "metadata": {},
   "outputs": [
    {
     "name": "stdout",
     "output_type": "stream",
     "text": [
      "Index([], dtype='object', name='utcStr')\n",
      "Index([], dtype='object', name='utcStr')\n",
      "Index([], dtype='object', name='utcStr')\n",
      "Index([], dtype='object', name='utcStr')\n",
      "Index([], dtype='object', name='utcStr')\n",
      "Index([], dtype='object', name='utcStr')\n",
      "Index([], dtype='object', name='utcStr')\n",
      "Index([], dtype='object', name='utcStr')\n",
      "Index([], dtype='object', name='utcStr')\n",
      "Index([], dtype='object', name='utcStr')\n",
      "Index([], dtype='object', name='utcStr')\n",
      "Index([], dtype='object', name='utcStr')\n",
      "Index([], dtype='object', name='utcStr')\n",
      "Index([], dtype='object', name='utcStr')\n",
      "Index([], dtype='object', name='utcStr')\n",
      "Index([], dtype='object', name='utcStr')\n",
      "Index([], dtype='object', name='utcStr')\n",
      "Index([], dtype='object', name='utcStr')\n",
      "Index([], dtype='object', name='utcStr')\n",
      "Index([], dtype='object', name='utcStr')\n",
      "Index([], dtype='object', name='utcStr')\n",
      "Index([], dtype='object', name='utcStr')\n",
      "Index([], dtype='object', name='utcStr')\n",
      "Index([], dtype='object', name='utcStr')\n",
      "Index([], dtype='object', name='utcStr')\n",
      "Index([], dtype='object', name='utcStr')\n",
      "Index([], dtype='object', name='utcStr')\n",
      "Index([], dtype='object', name='utcStr')\n",
      "Index([], dtype='object', name='utcStr')\n",
      "Index([], dtype='object', name='utcStr')\n",
      "Index([], dtype='object', name='utcStr')\n",
      "Index([], dtype='object', name='utcStr')\n",
      "Index([], dtype='object', name='utcStr')\n",
      "Index([], dtype='object', name='utcStr')\n",
      "Index([], dtype='object', name='utcStr')\n",
      "Index([], dtype='object', name='utcStr')\n",
      "Index([], dtype='object', name='utcStr')\n",
      "Index([], dtype='object', name='utcStr')\n",
      "Index([], dtype='object', name='utcStr')\n",
      "Index([], dtype='object', name='utcStr')\n",
      "Index([], dtype='object', name='utcStr')\n",
      "Index([], dtype='object', name='utcStr')\n",
      "Index([], dtype='object', name='utcStr')\n",
      "Index([], dtype='object', name='utcStr')\n",
      "Index([], dtype='object', name='utcStr')\n",
      "Index([], dtype='object', name='utcStr')\n",
      "Index([], dtype='object', name='utcStr')\n",
      "Index([], dtype='object', name='utcStr')\n",
      "Index([], dtype='object', name='utcStr')\n",
      "Index([], dtype='object', name='utcStr')\n"
     ]
    }
   ],
   "source": [
    "df_list = []\n",
    "for f in FILE_LIST:\n",
    "    _df = pd.read_csv(f)\n",
    "    _df_data=_df[['utcStr',\"close\",\"volume\"]].set_index('utcStr')\n",
    "    print(_df_data[ _df_data.isnull().any(axis=1)].index)\n",
    "    _df_data=_df_data.rename({\"close\":\"close-%s\"%_df[\"ric\"].values[0],\n",
    "                             \"volume\":\"volume-%s\"%_df[\"ric\"].values[0]},axis=1)\n",
    "    df_list.append(_df_data)\n",
    "    \n",
    "    \n",
    "_data=pd.concat(df_list,axis=1)\n",
    "_data.to_csv(\"close_hk.csv\")"
   ]
  },
  {
   "cell_type": "code",
   "execution_count": null,
   "metadata": {
    "collapsed": true
   },
   "outputs": [],
   "source": []
  }
 ],
 "metadata": {
  "kernelspec": {
   "display_name": "Python 3",
   "language": "python",
   "name": "python3"
  },
  "language_info": {
   "codemirror_mode": {
    "name": "ipython",
    "version": 3
   },
   "file_extension": ".py",
   "mimetype": "text/x-python",
   "name": "python",
   "nbconvert_exporter": "python",
   "pygments_lexer": "ipython3",
   "version": "3.5.2"
  }
 },
 "nbformat": 4,
 "nbformat_minor": 2
}
